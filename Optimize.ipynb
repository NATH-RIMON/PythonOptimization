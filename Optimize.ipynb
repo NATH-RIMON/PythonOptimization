{
 "cells": [
  {
   "cell_type": "code",
   "execution_count": 1,
   "id": "c1b73c43",
   "metadata": {},
   "outputs": [],
   "source": [
    "import pandas as pd\n",
    "import datetime\n",
    "import calendar"
   ]
  },
  {
   "cell_type": "code",
   "execution_count": 2,
   "id": "109d304c",
   "metadata": {},
   "outputs": [],
   "source": [
    "yelt = pd.read_csv('Result_81.csv')\n",
    "fxtable = pd.read_csv('FXTABLE.csv')\n",
    "cessions = pd.ExcelFile('CESSIONS.xlsx')"
   ]
  },
  {
   "cell_type": "code",
   "execution_count": 3,
   "id": "d218d980",
   "metadata": {},
   "outputs": [],
   "source": [
    "c_table = pd.read_excel(cessions, 'CESSIONS', header=0)"
   ]
  },
  {
   "cell_type": "code",
   "execution_count": 4,
   "id": "36830692",
   "metadata": {},
   "outputs": [],
   "source": [
    "yelt_fx = pd.merge(yelt, fxtable, how='left', on=['LAYERID', 'CURRENCY']).fillna(1)\n",
    "yelt_fx_c = pd.merge(yelt_fx, c_table, how='left', on=['LAYERID']).fillna(1)"
   ]
  },
  {
   "cell_type": "code",
   "execution_count": 5,
   "id": "47f9099c",
   "metadata": {},
   "outputs": [],
   "source": [
    "\n",
    "\n",
    "yelt_fx_c['grossLoss'] = yelt_fx_c.apply(lambda x: x['PROJ_GROSSLOSS'] *\n",
    "                                                   x['PERIOD FXRATE USD'] *\n",
    "                                                   x['SHARE'] *\n",
    "                                                   x['LIMITFACTOR'], axis=1)"
   ]
  },
  {
   "cell_type": "code",
   "execution_count": 6,
   "id": "2fb0fc23",
   "metadata": {},
   "outputs": [],
   "source": [
    "\n",
    "yelt_fx_c['grossRP'] = yelt_fx_c.apply(lambda x: x['PROJ_GROSSRP'] *\n",
    "                                                   x['PERIOD FXRATE USD'] *\n",
    "                                                   x['SHARE'] *\n",
    "                                                   x['PREMIUMFACTOR'], axis=1)"
   ]
  },
  {
   "cell_type": "code",
   "execution_count": 7,
   "id": "c8309702",
   "metadata": {},
   "outputs": [],
   "source": [
    "yelt_fx_c['netLoss1'] = yelt_fx_c.apply(lambda x: x['grossLoss'] * (1 - x['CESSION1']), axis=1)\n",
    "yelt_fx_c['netLoss2'] = yelt_fx_c.apply(lambda x: x['grossLoss'] * (1 - x['CESSION1'] - x['CESSION2']), axis=1)\n",
    "yelt_fx_c['netLoss3'] = yelt_fx_c.apply(lambda x: x['grossLoss'] * (1 - x['CESSION1'] - x['CESSION2'] - x['CESSION3']), axis=1)\n",
    "yelt_fx_c['netLoss4'] = yelt_fx_c.apply(lambda x: x['grossLoss'] * (1 - x['CESSION1'] - x['CESSION2'] - x['CESSION3'] - x['CESSION4']), axis=1)\n",
    "yelt_fx_c['netLoss5'] = yelt_fx_c.apply(lambda x: x['grossLoss'] * (1 - x['CESSION1'] - x['CESSION2'] - x['CESSION3'] - x['CESSION4'] - x['CESSION5']), axis=1)"
   ]
  },
  {
   "cell_type": "code",
   "execution_count": 8,
   "id": "e7255067",
   "metadata": {},
   "outputs": [],
   "source": [
    "yelt_fx_c['netRP1'] = yelt_fx_c.apply(lambda x: x['grossRP'] * x['CESSION1'], axis=1)\n",
    "yelt_fx_c['netRP2'] = yelt_fx_c.apply(lambda x: x['grossRP'] * (1 - x['CESSION1'] - x['CESSION2']), axis=1)\n",
    "yelt_fx_c['netRP3'] = yelt_fx_c.apply(lambda x: x['grossRP'] * (1 - x['CESSION1'] - x['CESSION2'] - x['CESSION3']), axis=1)\n",
    "yelt_fx_c['netRP4'] = yelt_fx_c.apply(lambda x: x['grossRP'] * (1 - x['CESSION1'] - x['CESSION2'] - x['CESSION3'] - x['CESSION4']), axis=1)\n",
    "yelt_fx_c['netRP5'] = yelt_fx_c.apply(lambda x: x['grossRP'] * (1 - x['CESSION1'] - x['CESSION2'] - x['CESSION3'] - x['CESSION4'] - x['CESSION5']), axis=1)"
   ]
  },
  {
   "cell_type": "code",
   "execution_count": 9,
   "id": "583b3428",
   "metadata": {},
   "outputs": [],
   "source": [
    "yelt_fx_c['retainedGross'] = yelt_fx_c.apply(lambda x: x['grossLoss'] - x['grossRP'], axis=1)\n",
    "yelt_fx_c['retainedL1'] = yelt_fx_c.apply(lambda x: x['netLoss1'] - x['netRP1'], axis=1)\n",
    "yelt_fx_c['retainedL2'] = yelt_fx_c.apply(lambda x: x['netLoss2'] - x['netRP2'], axis=1)\n",
    "yelt_fx_c['retainedL3'] = yelt_fx_c.apply(lambda x: x['netLoss3'] - x['netRP3'], axis=1)\n",
    "yelt_fx_c['retainedL4'] = yelt_fx_c.apply(lambda x: x['netLoss4'] - x['netRP4'], axis=1)\n",
    "yelt_fx_c['retainedL5'] = yelt_fx_c.apply(lambda x: x['netLoss5'] - x['netRP5'], axis=1)"
   ]
  },
  {
   "cell_type": "code",
   "execution_count": 10,
   "id": "76d5c481",
   "metadata": {},
   "outputs": [],
   "source": [
    "yelt_final = yelt_fx_c[[\"EVENTYEAR\", \"TOPUPZONE\",\n",
    "                        \"grossLoss\", \"netLoss1\", \"netLoss2\", \"netLoss3\", \"netLoss4\", \"netLoss5\",\n",
    "                        \"grossRP\", \"netRP1\", \"netRP2\", \"netRP3\", \"netRP4\", \"netRP5\",\n",
    "                        \"retainedGross\", \"retainedL1\", \"retainedL2\", \"retainedL3\", \"retainedL4\", \"retainedL5\"]].copy()"
   ]
  },
  {
   "cell_type": "code",
   "execution_count": 11,
   "id": "6f2ec23e",
   "metadata": {},
   "outputs": [],
   "source": [
    "grouped = yelt_final.groupby(['EVENTYEAR', 'TOPUPZONE']).sum().reset_index()\n",
    "\n",
    "grouped2 = yelt_final.groupby(['EVENTYEAR']).sum().reset_index()\n",
    "\n",
    "grouped3 = grouped[[\"EVENTYEAR\", \"TOPUPZONE\", \"retainedL5\"]].copy()\n",
    "\n",
    "grouped3_pivot = grouped3.pivot(index='EVENTYEAR', columns='TOPUPZONE', values='retainedL5').fillna(0).reset_index(drop=False)"
   ]
  },
  {
   "cell_type": "code",
   "execution_count": 12,
   "id": "c0e09911",
   "metadata": {},
   "outputs": [],
   "source": [
    "import xlwings as xw"
   ]
  },
  {
   "cell_type": "code",
   "execution_count": 13,
   "id": "c22330fe",
   "metadata": {},
   "outputs": [],
   "source": [
    "wb = xw.Book()  # this will create a new workbook"
   ]
  },
  {
   "cell_type": "code",
   "execution_count": 14,
   "id": "811a2223",
   "metadata": {},
   "outputs": [],
   "source": [
    "ws1 = wb.sheets['Sheet1']\n",
    "ws1.range(\"A1\").clear_contents()\n",
    "ws1.range(\"A1\").options(index=False, header=True).value = grouped2"
   ]
  },
  {
   "cell_type": "code",
   "execution_count": 15,
   "id": "ffe92ccb",
   "metadata": {},
   "outputs": [],
   "source": [
    "wb = xw.Book()  # this will create a new workbook"
   ]
  },
  {
   "cell_type": "code",
   "execution_count": 16,
   "id": "32e7ec52",
   "metadata": {},
   "outputs": [],
   "source": [
    "ws1 = wb.sheets['Sheet1']\n",
    "ws1.range(\"A1\").clear_contents()\n",
    "ws1.range(\"A1\").options(index=False, header=True).value = grouped3_pivot\n"
   ]
  },
  {
   "cell_type": "code",
   "execution_count": null,
   "id": "cd908fd2",
   "metadata": {},
   "outputs": [],
   "source": []
  }
 ],
 "metadata": {
  "kernelspec": {
   "display_name": "Python 3 (ipykernel)",
   "language": "python",
   "name": "python3"
  },
  "language_info": {
   "codemirror_mode": {
    "name": "ipython",
    "version": 3
   },
   "file_extension": ".py",
   "mimetype": "text/x-python",
   "name": "python",
   "nbconvert_exporter": "python",
   "pygments_lexer": "ipython3",
   "version": "3.9.7"
  }
 },
 "nbformat": 4,
 "nbformat_minor": 5
}
